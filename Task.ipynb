{
 "cells": [
  {
   "cell_type": "code",
   "execution_count": 2,
   "id": "472f0647",
   "metadata": {},
   "outputs": [
    {
     "name": "stderr",
     "output_type": "stream",
     "text": [
      "No model was supplied, defaulted to distilbert-base-cased-distilled-squad and revision 626af31 (https://huggingface.co/distilbert-base-cased-distilled-squad).\n",
      "Using a pipeline without specifying a model name and revision in production is not recommended.\n"
     ]
    }
   ],
   "source": [
    "# Let's load important library for this project\n",
    "import spacy\n",
    "from transformers import pipeline\n",
    "\n",
    "# Load spaCy model for NLP tasks\n",
    "nlp = spacy.load(\"en_core_web_lg\")\n",
    "\n",
    "# Load Hugging Face Question-Answering Model\n",
    "qa_model = pipeline('question-answering')"
   ]
  },
  {
   "cell_type": "code",
   "execution_count": 3,
   "id": "44154650",
   "metadata": {},
   "outputs": [],
   "source": [
    "# Lets define a Function for Breast Cancer Question Generation\n",
    "def generate_breast_cancer_question(patient_info):\n",
    "    # Extract relevant information from patient_info using NLP\n",
    "    doc = nlp(patient_info)\n",
    "    age = next((ent.text for ent in doc.ents if ent.label_ == \"AGE\"), \"unknown\")\n",
    "    family_history = next((ent.text for ent in doc.ents if ent.label_ == \"FAMILY_HISTORY\"), \"unknown\")\n",
    "    medical_history = [ent.text for ent in doc.ents if ent.label_ == \"MEDICAL_HISTORY\"]\n",
    "    genetic_predisposition = next((ent.text for ent in doc.ents if ent.label_ == \"GENETIC_PREDISPOSITION\"), \"unknown\")\n",
    "    lifestyle_factors = [ent.text for ent in doc.ents if ent.label_ == \"LIFESTYLE_FACTORS\"]\n",
    "    specific_symptoms = [ent.text for ent in doc.ents if ent.label_ == \"SPECIFIC_SYMPTOMS\"]\n",
    "\n",
    "    # Here, we generated a question based on multiple factors that can lead to breast cancer\n",
    "    generated_question = (\n",
    "        f\"What is the significance of age {age}, family history '{family_history}', \"\n",
    "        f\"medical history '{', '.join(medical_history)}', genetic predisposition '{genetic_predisposition}', \"\n",
    "        f\"lifestyle factors '{', '.join(lifestyle_factors)}', and specific symptoms '{', '.join(specific_symptoms)}' \"\n",
    "        \"in relation to breast cancer?\"\n",
    "    )\n",
    "\n",
    "    return generated_question"
   ]
  },
  {
   "cell_type": "code",
   "execution_count": 14,
   "id": "eb268539",
   "metadata": {},
   "outputs": [],
   "source": [
    "# We proceed to create the Main Workflow\n",
    "def breast_cancer_qa_workflow(patient_info):\n",
    "    # we gnerate a breast cancer-related question\n",
    "    question = generate_breast_cancer_question(patient_info)\n",
    "\n",
    "    # Use Hugging Face QA model to get an answer\n",
    "    hf_answer = qa_model(question=question, context=patient_info)\n",
    "\n",
    "    return question, hf_answer"
   ]
  },
  {
   "cell_type": "code",
   "execution_count": 15,
   "id": "4c8a96b3",
   "metadata": {},
   "outputs": [],
   "source": [
    "# we can test the Workflow with this patients information\n",
    "patient_information = \"\"\"\n",
    "Patient is a 45-year-old female with a positive family history of breast cancer. She has a previous cancer diagnosis, \n",
    "a BRCA1 mutation, and maintains regular exercise. Recently, she noticed a breast lump.\n",
    "\"\"\""
   ]
  },
  {
   "cell_type": "code",
   "execution_count": 16,
   "id": "494747e3",
   "metadata": {},
   "outputs": [
    {
     "name": "stdout",
     "output_type": "stream",
     "text": [
      "Generated Question: What is the significance of age unknown, family history 'unknown', medical history '', genetic predisposition 'unknown', lifestyle factors '', and specific symptoms '' in relation to breast cancer?\n",
      "Answer: positive family history of breast cancer\n"
     ]
    }
   ],
   "source": [
    "generated_question, hf_answer = breast_cancer_qa_workflow(patient_information)\n",
    "\n",
    "print(\"Generated Question:\", generated_question)\n",
    "print(\"Answer:\", hf_answer['answer'])"
   ]
  },
  {
   "cell_type": "code",
   "execution_count": null,
   "id": "21149e50",
   "metadata": {},
   "outputs": [],
   "source": []
  }
 ],
 "metadata": {
  "kernelspec": {
   "display_name": "Python 3 (ipykernel)",
   "language": "python",
   "name": "python3"
  },
  "language_info": {
   "codemirror_mode": {
    "name": "ipython",
    "version": 3
   },
   "file_extension": ".py",
   "mimetype": "text/x-python",
   "name": "python",
   "nbconvert_exporter": "python",
   "pygments_lexer": "ipython3",
   "version": "3.9.13"
  }
 },
 "nbformat": 4,
 "nbformat_minor": 5
}
